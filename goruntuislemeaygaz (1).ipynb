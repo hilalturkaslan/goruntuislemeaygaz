{
  "nbformat": 4,
  "nbformat_minor": 0,
  "metadata": {
    "colab": {
      "provenance": []
    },
    "kernelspec": {
      "name": "python3",
      "display_name": "Python 3"
    },
    "language_info": {
      "name": "python"
    }
  },
  "cells": [
    {
      "cell_type": "markdown",
      "source": [
        "# ***Görüntü İşleme Proje***"
      ],
      "metadata": {
        "id": "dlvl3SHJenwF"
      }
    },
    {
      "cell_type": "code",
      "execution_count": 1,
      "metadata": {
        "colab": {
          "base_uri": "https://localhost:8080/"
        },
        "id": "RTDyL2e0cMwY",
        "outputId": "e588e9a0-60b9-4be6-b1f5-564328839087"
      },
      "outputs": [
        {
          "output_type": "stream",
          "name": "stdout",
          "text": [
            "Warning: Looks like you're using an outdated `kagglehub` version (installed: 0.3.5), please consider upgrading to the latest version (0.3.6).\n",
            "Downloading from https://www.kaggle.com/api/v1/datasets/download/rrebirrth/animals-with-attributes-2?dataset_version_number=1...\n"
          ]
        },
        {
          "output_type": "stream",
          "name": "stderr",
          "text": [
            "100%|██████████| 13.0G/13.0G [02:01<00:00, 114MB/s]"
          ]
        },
        {
          "output_type": "stream",
          "name": "stdout",
          "text": [
            "Extracting files...\n"
          ]
        },
        {
          "output_type": "stream",
          "name": "stderr",
          "text": [
            "\n"
          ]
        },
        {
          "output_type": "stream",
          "name": "stdout",
          "text": [
            "Data source import complete.\n"
          ]
        }
      ],
      "source": [
        "import kagglehub\n",
        "rrebirrth_animals_with_attributes_2_path = kagglehub.dataset_download('rrebirrth/animals-with-attributes-2')\n",
        "\n",
        "print('Data source import complete.')"
      ]
    },
    {
      "cell_type": "markdown",
      "source": [
        "Veri import edildi"
      ],
      "metadata": {
        "id": "SJOEgyg3dVrE"
      }
    },
    {
      "cell_type": "code",
      "source": [
        "import os\n",
        "import shutil\n",
        "from PIL import Image"
      ],
      "metadata": {
        "id": "AZzrnta9fLAq"
      },
      "execution_count": 2,
      "outputs": []
    },
    {
      "cell_type": "markdown",
      "source": [
        " Gerekli kütüphaneler içe aktarıldı.Bu adımda veri hazırlama ve işleme için gerekli olan Python kütüphaneleri içe aktarılmaktadır\n",
        "\n",
        "\n"
      ],
      "metadata": {
        "id": "C3uUcH0dfUgh"
      }
    },
    {
      "cell_type": "code",
      "source": [
        "base_path = \"/root/.cache/kagglehub/datasets/rrebirrth/animals-with-attributes-2/versions/1/Animals_with_Attributes2/JPEGImages/\"\n",
        "output_path = \"./filtered_dataset/\"  # Filtrelenmiş görüntülerin saklanacağı yeni dizin\n",
        "animals = [\"collie\", \"dolphin\", \"elephant\", \"fox\", \"moose\", \"rabbit\", \"sheep\", \"squirrel\", \"giant+panda\", \"polar+bear\"]\n",
        "\n",
        "os.makedirs(output_path, exist_ok=True)"
      ],
      "metadata": {
        "id": "m1PfmN9Gfc29"
      },
      "execution_count": 4,
      "outputs": []
    },
    {
      "cell_type": "markdown",
      "source": [
        " Veri setinin bulunduğu temel dizini ve sınıflandırma için seçilen hayvan sınıfları tanımlandı.\n",
        " Ayrıca filtrelenmiş ve normalize edilmiş veriler için çıkış dizinleri belirlendi\n"
      ],
      "metadata": {
        "id": "6E62D5Wrf0Jb"
      }
    },
    {
      "cell_type": "code",
      "source": [
        "for animal in animals:\n",
        "    animal_folder = os.path.join(output_path, animal.replace(\"+\", \"_\"))\n",
        "    os.makedirs(animal_folder, exist_ok=True)\n",
        "    count = 0\n",
        "    for dirname, _, filenames in os.walk(base_path):\n",
        "        if animal in dirname:\n",
        "            for filename in sorted(filenames)[:650]:  # İlk 650 görüntü seçildi\n",
        "                src_path = os.path.join(dirname, filename)\n",
        "                dest_path = os.path.join(animal_folder, filename)\n",
        "                shutil.copy(src_path, dest_path)\n",
        "                count += 1\n",
        "                if count >= 650:\n",
        "                    break\n",
        "    print(f\"{animal}: {count} görüntü {animal_folder} dizinine kopyalandı.\")"
      ],
      "metadata": {
        "colab": {
          "base_uri": "https://localhost:8080/"
        },
        "id": "XV_HtnLBgAU5",
        "outputId": "92fe9e0a-4d8b-449c-9b84-f7be94598547"
      },
      "execution_count": 9,
      "outputs": [
        {
          "output_type": "stream",
          "name": "stdout",
          "text": [
            "collie: 650 görüntü ./filtered_dataset/collie dizinine kopyalandı.\n",
            "dolphin: 650 görüntü ./filtered_dataset/dolphin dizinine kopyalandı.\n",
            "elephant: 650 görüntü ./filtered_dataset/elephant dizinine kopyalandı.\n",
            "fox: 650 görüntü ./filtered_dataset/fox dizinine kopyalandı.\n",
            "moose: 650 görüntü ./filtered_dataset/moose dizinine kopyalandı.\n",
            "rabbit: 650 görüntü ./filtered_dataset/rabbit dizinine kopyalandı.\n",
            "sheep: 650 görüntü ./filtered_dataset/sheep dizinine kopyalandı.\n",
            "squirrel: 650 görüntü ./filtered_dataset/squirrel dizinine kopyalandı.\n",
            "giant+panda: 650 görüntü ./filtered_dataset/giant_panda dizinine kopyalandı.\n",
            "polar+bear: 650 görüntü ./filtered_dataset/polar_bear dizinine kopyalandı.\n"
          ]
        }
      ]
    },
    {
      "cell_type": "markdown",
      "source": [
        "Belirtilen sınıflar için yalnızca ilk 650 görüntü alındı ve bu görüntüler yeni bir dizine kopyalandı.\n"
      ],
      "metadata": {
        "id": "CVNbxFq-ggi5"
      }
    },
    {
      "cell_type": "code",
      "source": [
        "image_size = (128, 128)  # Tüm görüntüler 128x128 boyutuna getirilir\n",
        "normalized_dataset_path = \"./normalized_dataset/\"\n",
        "os.makedirs(normalized_dataset_path, exist_ok=True)\n",
        "\n",
        "for animal in animals:\n",
        "    animal_folder = os.path.join(output_path, animal.replace(\"+\", \"_\"))\n",
        "    norm_animal_folder = os.path.join(normalized_dataset_path, animal.replace(\"+\", \"_\"))\n",
        "    os.makedirs(norm_animal_folder, exist_ok=True)\n",
        "    for img_file in os.listdir(animal_folder):\n",
        "        img_path = os.path.join(animal_folder, img_file)\n",
        "        try:\n",
        "            img = Image.open(img_path).convert(\"RGB\")\n",
        "            img_resized = img.resize(image_size)\n",
        "            img_resized.save(os.path.join(norm_animal_folder, img_file))\n",
        "        except Exception as e:\n",
        "            print(f\"Görüntü işleme hatası {img_path}: {e}\")\n",
        "\n",
        "print(\"Tüm görüntüler yeniden boyutlandırıldı ve normalized_dataset dizinine kaydedildi.\")\n"
      ],
      "metadata": {
        "colab": {
          "base_uri": "https://localhost:8080/"
        },
        "id": "03D053Svgrmp",
        "outputId": "1642d455-a1c2-4d38-e445-df75bc819203"
      },
      "execution_count": 10,
      "outputs": [
        {
          "output_type": "stream",
          "name": "stdout",
          "text": [
            "Tüm görüntüler yeniden boyutlandırıldı ve normalized_dataset dizinine kaydedildi.\n"
          ]
        }
      ]
    },
    {
      "cell_type": "markdown",
      "source": [
        "Tüm görselleri aynı boyuta getirilerek giriş verilerini tutarlı hale getirildi.Normalize edilen görüntüler yeni bir dizine kaydedildi"
      ],
      "metadata": {
        "id": "iE3dA5IuhQTc"
      }
    },
    {
      "cell_type": "code",
      "source": [
        "from sklearn.model_selection import train_test_split"
      ],
      "metadata": {
        "id": "XbBSIQN5hp4x"
      },
      "execution_count": 14,
      "outputs": []
    },
    {
      "cell_type": "markdown",
      "source": [
        "Gerekli kütüphaneler içe aktarıldı"
      ],
      "metadata": {
        "id": "cobcKggRkWBW"
      }
    },
    {
      "cell_type": "code",
      "source": [
        "output_path = \"./normalized_dataset/\"\n",
        "train_path = \"./train_dataset/\"\n",
        "test_path = \"./test_dataset/\"\n",
        "image_size = (128, 128)"
      ],
      "metadata": {
        "id": "ecPly1skkb2W"
      },
      "execution_count": 18,
      "outputs": []
    },
    {
      "cell_type": "markdown",
      "source": [
        "Dizinler oluşturuldu"
      ],
      "metadata": {
        "id": "eZU3jFU3kl0R"
      }
    },
    {
      "cell_type": "code",
      "source": [
        "os.makedirs(train_path, exist_ok=True)\n",
        "os.makedirs(test_path, exist_ok=True)"
      ],
      "metadata": {
        "id": "3uC7LhIwkp_u"
      },
      "execution_count": 19,
      "outputs": []
    },
    {
      "cell_type": "markdown",
      "source": [
        "Eğitim ve test verileri için klasörler oluşturuldu"
      ],
      "metadata": {
        "id": "0rfQBUDmkus_"
      }
    },
    {
      "cell_type": "code",
      "source": [
        "animals = os.listdir(output_path)"
      ],
      "metadata": {
        "id": "37DDC8M-k2fN"
      },
      "execution_count": 20,
      "outputs": []
    },
    {
      "cell_type": "markdown",
      "source": [
        "Hayvan türleri listelendi"
      ],
      "metadata": {
        "id": "BQQYcF-5ocO_"
      }
    },
    {
      "cell_type": "code",
      "source": [
        "random_state = 42\n",
        "\n",
        "for animal in animals:\n",
        "    animal_folder = os.path.join(output_path, animal.replace(\"+\", \"_\"))\n",
        "\n",
        "    if not os.path.exists(animal_folder):\n",
        "        continue\n",
        "\n",
        "    image_files = [f for f in os.listdir(animal_folder) if f.endswith('.jpg') or f.endswith('.png')]  # Sadece görüntü dosyaları seçildi"
      ],
      "metadata": {
        "id": "D_FsK5-Doi3Y"
      },
      "execution_count": 24,
      "outputs": []
    },
    {
      "cell_type": "markdown",
      "source": [
        "Rastgelelikeyi kontrol etmek için random_state belirlendi."
      ],
      "metadata": {
        "id": "PhWlq2Qioql-"
      }
    },
    {
      "cell_type": "code",
      "source": [
        "norm_animal_folder = os.path.join(output_path, animal.replace(\"+\", \"_\") + \"_normalized\")\n",
        "os.makedirs(norm_animal_folder, exist_ok=True)\n",
        "\n",
        "for img_file in image_files:\n",
        "    img_path = os.path.join(animal_folder, img_file)\n",
        "    try:\n",
        "       img = Image.open(img_path).convert(\"RGB\")\n",
        "       img_resized = img.resize(image_size)\n",
        "       img_resized.save(os.path.join(norm_animal_folder, img_file))\n",
        "    except Exception as e:\n",
        "         print(f\"Görüntü işleme hatası {img_path}: {e}\")\n",
        "\n",
        "print(f\"{animal}: Görüntüler yeniden boyutlandırıldı ve normalized_dataset dizinine kaydedildi.\")\n"
      ],
      "metadata": {
        "colab": {
          "base_uri": "https://localhost:8080/"
        },
        "id": "9pBblBIhrQ5X",
        "outputId": "aecaa725-3e36-44a5-9ffc-184e09802725"
      },
      "execution_count": 25,
      "outputs": [
        {
          "output_type": "stream",
          "name": "stdout",
          "text": [
            "collie: Görüntüler yeniden boyutlandırıldı ve normalized_dataset dizinine kaydedildi.\n"
          ]
        }
      ]
    },
    {
      "cell_type": "markdown",
      "source": [
        "Görüntüler yeniden boyutlandırıldı ve normalized_dataset dizinine kaydedildi\n"
      ],
      "metadata": {
        "id": "lmFWo3kdrum-"
      }
    },
    {
      "cell_type": "code",
      "source": [
        "train_files, test_files = train_test_split(image_files, test_size=0.3, random_state=random_state)"
      ],
      "metadata": {
        "id": "vdzVy0Oer17Q"
      },
      "execution_count": 26,
      "outputs": []
    },
    {
      "cell_type": "markdown",
      "source": [
        "Eğitim ve test verileri %70 eğitim, %30 test olarak ayırıldı"
      ],
      "metadata": {
        "id": "EAcgvhR_r6i3"
      }
    },
    {
      "cell_type": "code",
      "source": [
        "train_animal_folder = os.path.join(train_path, animal.replace(\"+\", \"_\"))\n",
        "os.makedirs(train_animal_folder, exist_ok=True)\n",
        "for train_file in train_files:\n",
        "    shutil.copy(os.path.join(norm_animal_folder, train_file), os.path.join(train_animal_folder, train_file))\n",
        "\n",
        "\n",
        "test_animal_folder = os.path.join(test_path, animal.replace(\"+\", \"_\"))\n",
        "os.makedirs(test_animal_folder, exist_ok=True)\n",
        "for test_file in test_files:\n",
        "     shutil.copy(os.path.join(norm_animal_folder, test_file), os.path.join(test_animal_folder, test_file))\n",
        "\n",
        "print(\"Eğitim ve test verileri başarıyla ayrıldı.\")\n"
      ],
      "metadata": {
        "colab": {
          "base_uri": "https://localhost:8080/"
        },
        "id": "v181HRh0sBso",
        "outputId": "c443ff3f-d530-43c1-fc5f-6dc9af56391e"
      },
      "execution_count": 28,
      "outputs": [
        {
          "output_type": "stream",
          "name": "stdout",
          "text": [
            "Eğitim ve test verileri başarıyla ayrıldı.\n"
          ]
        }
      ]
    },
    {
      "cell_type": "markdown",
      "source": [
        "Eğitim ve test verileri başarıyla ayrıldı"
      ],
      "metadata": {
        "id": "8LPwnzATtgEH"
      }
    },
    {
      "cell_type": "code",
      "source": [
        "import numpy as np\n",
        "import cv2\n",
        "import random\n",
        "from PIL import ImageFilter\n"
      ],
      "metadata": {
        "id": "geyPy8qnthBh"
      },
      "execution_count": 37,
      "outputs": []
    },
    {
      "cell_type": "markdown",
      "source": [
        "Gerekli kütüphaneler içe aktarıldı"
      ],
      "metadata": {
        "id": "OK-knEGdvDJk"
      }
    },
    {
      "cell_type": "code",
      "source": [
        "def add_noise(img):\n",
        "    row, col, ch = img.shape\n",
        "    s_vs_p = 0.5\n",
        "    amount = 0.04\n",
        "    out = np.copy(img)\n",
        "    num_salt = np.ceil(amount * img.size * s_vs_p)\n",
        "    num_pepper = np.ceil(amount * img.size * (1. - s_vs_p))\n",
        "    for _ in range(int(num_salt)):\n",
        "        x = random.randint(0, col - 1)\n",
        "        y = random.randint(0, row - 1)\n",
        "        out[y][x] = 1\n",
        "    for _ in range(int(num_pepper)):\n",
        "        x = random.randint(0, col - 1)\n",
        "        y = random.randint(0, row - 1)\n",
        "        out[y][x] = 0\n",
        "\n",
        "    return out\n",
        ""
      ],
      "metadata": {
        "id": "eSoE8GZPvETQ"
      },
      "execution_count": 31,
      "outputs": []
    },
    {
      "cell_type": "markdown",
      "source": [
        "Görüntüye rastgele gürültü eklendi"
      ],
      "metadata": {
        "id": "bzx6qw6jvROJ"
      }
    },
    {
      "cell_type": "code",
      "source": [
        "def apply_augmentation(img):\n",
        "    augmented_images = []\n",
        "\n",
        "    #Döndürme\n",
        "    rotated_img = img.rotate(random.randint(-30, 30))  # -30 ile 30 derece arasında döndürme\n",
        "    augmented_images.append(rotated_img)\n",
        "\n",
        "    #Kenar bulma (Edge Detection)\n",
        "    img_cv = np.array(img)  # PIL img'yi numpy array'e çevir\n",
        "    edges = cv2.Canny(img_cv, 100, 200)  # Kenar bulma\n",
        "    edge_img = Image.fromarray(edges)  # Tekrardan PIL formatına çevir\n",
        "    augmented_images.append(edge_img)\n",
        "\n",
        "    #Bulanıklaştırma (Blurring)\n",
        "    blurred_img = img.filter(ImageFilter.GaussianBlur(radius=2))\n",
        "    augmented_images.append(blurred_img)\n",
        "\n",
        "    #Gürültü ekleme\n",
        "    img_np = np.array(img)\n",
        "    noisy_img = add_noise(img_np)\n",
        "    noisy_img = Image.fromarray(noisy_img)\n",
        "    augmented_images.append(noisy_img)\n",
        "\n",
        "    #Yeniden boyutlandırma (Resizing)\n",
        "    resized_img = img.resize(image_size)\n",
        "    augmented_images.append(resized_img)\n",
        "\n",
        "    return augmented_images"
      ],
      "metadata": {
        "id": "zeVwIDB5vTKT"
      },
      "execution_count": 32,
      "outputs": []
    },
    {
      "cell_type": "markdown",
      "source": [
        "Görüntü üzerinde veri artırma uygulandı"
      ],
      "metadata": {
        "id": "B8NJJPLlwFlY"
      }
    },
    {
      "cell_type": "code",
      "source": [
        "for animal in animals:\n",
        "    animal_folder = os.path.join(output_path, animal.replace(\"+\", \"_\"))\n",
        "\n",
        "    if not os.path.exists(animal_folder):\n",
        "        print(f\"{animal_folder} dizini mevcut değil.\")\n",
        "        continue\n",
        "\n",
        "    image_files = [f for f in os.listdir(animal_folder) if f.endswith('.jpg') or f.endswith('.png')]\n",
        "\n",
        "    norm_animal_folder = os.path.join(output_path, animal.replace(\"+\", \"_\") + \"_normalized\")\n",
        "    os.makedirs(norm_animal_folder, exist_ok=True)\n",
        "\n",
        "    for img_file in image_files:\n",
        "        img_path = os.path.join(animal_folder, img_file)\n",
        "        try:\n",
        "            img = Image.open(img_path).convert(\"RGB\")\n",
        "            img_resized = img.resize(image_size)\n",
        "            img_resized.save(os.path.join(norm_animal_folder, img_file))\n",
        "        except Exception as e:\n",
        "            print(f\"Görüntü işleme hatası {img_path}: {e}\")\n",
        "\n",
        "    print(f\"{animal}: Görüntüler yeniden boyutlandırıldı ve normalized_dataset dizinine kaydedildi.\")"
      ],
      "metadata": {
        "colab": {
          "base_uri": "https://localhost:8080/"
        },
        "id": "F68dBk8TwIAn",
        "outputId": "deec3ade-f95c-4f00-890e-5ec32cc3f684"
      },
      "execution_count": 33,
      "outputs": [
        {
          "output_type": "stream",
          "name": "stdout",
          "text": [
            "elephant: Görüntüler yeniden boyutlandırıldı ve normalized_dataset dizinine kaydedildi.\n",
            "polar_bear: Görüntüler yeniden boyutlandırıldı ve normalized_dataset dizinine kaydedildi.\n",
            "rabbit: Görüntüler yeniden boyutlandırıldı ve normalized_dataset dizinine kaydedildi.\n",
            "moose: Görüntüler yeniden boyutlandırıldı ve normalized_dataset dizinine kaydedildi.\n",
            "dolphin: Görüntüler yeniden boyutlandırıldı ve normalized_dataset dizinine kaydedildi.\n",
            "squirrel: Görüntüler yeniden boyutlandırıldı ve normalized_dataset dizinine kaydedildi.\n",
            "fox: Görüntüler yeniden boyutlandırıldı ve normalized_dataset dizinine kaydedildi.\n",
            "giant_panda: Görüntüler yeniden boyutlandırıldı ve normalized_dataset dizinine kaydedildi.\n",
            "sheep: Görüntüler yeniden boyutlandırıldı ve normalized_dataset dizinine kaydedildi.\n",
            "collie: Görüntüler yeniden boyutlandırıldı ve normalized_dataset dizinine kaydedildi.\n"
          ]
        }
      ]
    },
    {
      "cell_type": "code",
      "source": [
        " train_files, test_files = train_test_split(image_files, test_size=0.3, random_state=random_state)"
      ],
      "metadata": {
        "id": "HVdoudXEwrVz"
      },
      "execution_count": 34,
      "outputs": []
    },
    {
      "cell_type": "code",
      "source": [
        "train_animal_folder = os.path.join(train_path, animal.replace(\"+\", \"_\"))\n",
        "os.makedirs(train_animal_folder, exist_ok=True)\n",
        "for train_file in train_files:\n",
        "     shutil.copy(os.path.join(norm_animal_folder, train_file), os.path.join(train_animal_folder, train_file))"
      ],
      "metadata": {
        "id": "stEwHpfFwv-w"
      },
      "execution_count": 35,
      "outputs": []
    },
    {
      "cell_type": "code",
      "source": [
        "mg_path = os.paith.join(norm_animal_folder, train_file)\n",
        "img = Image.open(img_path).convert(\"RGB\")\n",
        "augmented_images = apply_augmentation(img)\n",
        "\n",
        "for i, aug_img in enumerate(augmented_images):\n",
        "       aug_img.save(os.path.join(train_animal_folder, f\"{train_file.split('.')[0]}_aug_{i}.jpg\"))\n"
      ],
      "metadata": {
        "id": "SYS_CDuRw73y"
      },
      "execution_count": 38,
      "outputs": []
    },
    {
      "cell_type": "code",
      "source": [
        "test_animal_folder = os.path.join(test_path, animal.replace(\"+\", \"_\"))\n",
        "os.makedirs(test_animal_folder, exist_ok=True)\n",
        "for test_file in test_files:\n",
        "    shutil.copy(os.path.join(norm_animal_folder, test_file), os.path.join(test_animal_folder, test_file))\n",
        "\n",
        "print(\"Eğitim ve test verileri başarıyla ayrıldı ve veri artırma uygulandı.\")"
      ],
      "metadata": {
        "colab": {
          "base_uri": "https://localhost:8080/"
        },
        "id": "Jx3cB2XpxnqU",
        "outputId": "54bbc756-3efc-4811-8db4-f3ff117d8af0"
      },
      "execution_count": 39,
      "outputs": [
        {
          "output_type": "stream",
          "name": "stdout",
          "text": [
            "Eğitim ve test verileri başarıyla ayrıldı ve veri artırma uygulandı.\n"
          ]
        }
      ]
    },
    {
      "cell_type": "markdown",
      "source": [
        "Eğitim ve test verileri başarıyla ayrıldı ve veri artırma uygulandı"
      ],
      "metadata": {
        "id": "9mHDboVix2Wd"
      }
    },
    {
      "cell_type": "code",
      "source": [
        "from tensorflow.keras.preprocessing import image\n",
        "import numpy as np\n",
        "import os\n",
        "images = []\n",
        "labels = []\n",
        "\n",
        "for label, animal in enumerate(animals):  # Hayvan sınıflarını etiketleme\n",
        "    animal_folder = os.path.join(output_path, animal)\n",
        "    if os.path.isdir(animal_folder):\n",
        "        for img_file in os.listdir(animal_folder):\n",
        "            img_path = os.path.join(animal_folder, img_file)\n",
        "            img = image.load_img(img_path, target_size=(128, 128))  # Görüntüyü yükleme ve yeniden boyutlandırma\n",
        "            img_array = image.img_to_array(img)  # Görüntüyü numpy array'e dönüştürme\n",
        "            images.append(img_array)\n",
        "            labels.append(label)\n",
        "images = np.array(images)\n",
        "labels = np.array(labels)\n",
        "\n",
        "from tensorflow.keras.utils import to_categorical\n",
        "labels = to_categorical(labels, num_classes=10)\n"
      ],
      "metadata": {
        "id": "u5_sFNh31hIc"
      },
      "execution_count": 59,
      "outputs": []
    },
    {
      "cell_type": "markdown",
      "source": [
        "#CNN Modelinin Tasarlanması"
      ],
      "metadata": {
        "id": "ktBQAODhynat"
      }
    },
    {
      "cell_type": "code",
      "source": [
        "from tensorflow.keras.models import Sequential\n",
        "from tensorflow.keras.layers import Conv2D, MaxPooling2D, Flatten, Dense, Dropout\n",
        "from tensorflow.keras.optimizers import Adam"
      ],
      "metadata": {
        "id": "adhlzjPRypTB"
      },
      "execution_count": 40,
      "outputs": []
    },
    {
      "cell_type": "markdown",
      "source": [
        "Gerekli kütüphaneler import edildi"
      ],
      "metadata": {
        "id": "Yyo5TNtlyzCW"
      }
    },
    {
      "cell_type": "code",
      "source": [
        "model = Sequential()\n",
        "\n",
        "model.add(Conv2D(32, (3, 3), activation='relu', input_shape=(128, 128, 3)))\n",
        "model.add(MaxPooling2D(pool_size=(2, 2)))\n",
        "\n",
        "model.add(Conv2D(64, (3, 3), activation='relu'))\n",
        "model.add(MaxPooling2D(pool_size=(2, 2)))\n",
        "\n",
        "model.add(Conv2D(128, (3, 3), activation='relu'))\n",
        "model.add(MaxPooling2D(pool_size=(2, 2)))"
      ],
      "metadata": {
        "colab": {
          "base_uri": "https://localhost:8080/"
        },
        "id": "X1kcqabHy49d",
        "outputId": "4f65b073-05b4-4991-a53b-0a0b04246afc"
      },
      "execution_count": 41,
      "outputs": [
        {
          "output_type": "stream",
          "name": "stderr",
          "text": [
            "/usr/local/lib/python3.10/dist-packages/keras/src/layers/convolutional/base_conv.py:107: UserWarning: Do not pass an `input_shape`/`input_dim` argument to a layer. When using Sequential models, prefer using an `Input(shape)` object as the first layer in the model instead.\n",
            "  super().__init__(activity_regularizer=activity_regularizer, **kwargs)\n"
          ]
        }
      ]
    },
    {
      "cell_type": "code",
      "source": [
        "model.add(Flatten())\n",
        "\n",
        "model.add(Dense(128, activation='relu'))\n",
        "model.add(Dropout(0.5))\n",
        "\n",
        "model.add(Dense(10, activation='softmax'))"
      ],
      "metadata": {
        "id": "E44KjaA_zFwT"
      },
      "execution_count": 42,
      "outputs": []
    },
    {
      "cell_type": "code",
      "source": [
        "model.compile(optimizer=Adam(), loss='categorical_crossentropy', metrics=['accuracy'])\n"
      ],
      "metadata": {
        "id": "VvNsIRNbzYCA"
      },
      "execution_count": 43,
      "outputs": []
    },
    {
      "cell_type": "markdown",
      "source": [
        "Model derlendi"
      ],
      "metadata": {
        "id": "zMiBDptZzbcc"
      }
    },
    {
      "cell_type": "code",
      "source": [
        "model.summary()"
      ],
      "metadata": {
        "colab": {
          "base_uri": "https://localhost:8080/",
          "height": 459
        },
        "id": "-nKRiN5dzhQF",
        "outputId": "5dd645b1-7636-449f-b6a5-57766f50fa8a"
      },
      "execution_count": 44,
      "outputs": [
        {
          "output_type": "display_data",
          "data": {
            "text/plain": [
              "\u001b[1mModel: \"sequential\"\u001b[0m\n"
            ],
            "text/html": [
              "<pre style=\"white-space:pre;overflow-x:auto;line-height:normal;font-family:Menlo,'DejaVu Sans Mono',consolas,'Courier New',monospace\"><span style=\"font-weight: bold\">Model: \"sequential\"</span>\n",
              "</pre>\n"
            ]
          },
          "metadata": {}
        },
        {
          "output_type": "display_data",
          "data": {
            "text/plain": [
              "┏━━━━━━━━━━━━━━━━━━━━━━━━━━━━━━━━━━━━━━┳━━━━━━━━━━━━━━━━━━━━━━━━━━━━━┳━━━━━━━━━━━━━━━━━┓\n",
              "┃\u001b[1m \u001b[0m\u001b[1mLayer (type)                        \u001b[0m\u001b[1m \u001b[0m┃\u001b[1m \u001b[0m\u001b[1mOutput Shape               \u001b[0m\u001b[1m \u001b[0m┃\u001b[1m \u001b[0m\u001b[1m        Param #\u001b[0m\u001b[1m \u001b[0m┃\n",
              "┡━━━━━━━━━━━━━━━━━━━━━━━━━━━━━━━━━━━━━━╇━━━━━━━━━━━━━━━━━━━━━━━━━━━━━╇━━━━━━━━━━━━━━━━━┩\n",
              "│ conv2d (\u001b[38;5;33mConv2D\u001b[0m)                      │ (\u001b[38;5;45mNone\u001b[0m, \u001b[38;5;34m126\u001b[0m, \u001b[38;5;34m126\u001b[0m, \u001b[38;5;34m32\u001b[0m)        │             \u001b[38;5;34m896\u001b[0m │\n",
              "├──────────────────────────────────────┼─────────────────────────────┼─────────────────┤\n",
              "│ max_pooling2d (\u001b[38;5;33mMaxPooling2D\u001b[0m)         │ (\u001b[38;5;45mNone\u001b[0m, \u001b[38;5;34m63\u001b[0m, \u001b[38;5;34m63\u001b[0m, \u001b[38;5;34m32\u001b[0m)          │               \u001b[38;5;34m0\u001b[0m │\n",
              "├──────────────────────────────────────┼─────────────────────────────┼─────────────────┤\n",
              "│ conv2d_1 (\u001b[38;5;33mConv2D\u001b[0m)                    │ (\u001b[38;5;45mNone\u001b[0m, \u001b[38;5;34m61\u001b[0m, \u001b[38;5;34m61\u001b[0m, \u001b[38;5;34m64\u001b[0m)          │          \u001b[38;5;34m18,496\u001b[0m │\n",
              "├──────────────────────────────────────┼─────────────────────────────┼─────────────────┤\n",
              "│ max_pooling2d_1 (\u001b[38;5;33mMaxPooling2D\u001b[0m)       │ (\u001b[38;5;45mNone\u001b[0m, \u001b[38;5;34m30\u001b[0m, \u001b[38;5;34m30\u001b[0m, \u001b[38;5;34m64\u001b[0m)          │               \u001b[38;5;34m0\u001b[0m │\n",
              "├──────────────────────────────────────┼─────────────────────────────┼─────────────────┤\n",
              "│ conv2d_2 (\u001b[38;5;33mConv2D\u001b[0m)                    │ (\u001b[38;5;45mNone\u001b[0m, \u001b[38;5;34m28\u001b[0m, \u001b[38;5;34m28\u001b[0m, \u001b[38;5;34m128\u001b[0m)         │          \u001b[38;5;34m73,856\u001b[0m │\n",
              "├──────────────────────────────────────┼─────────────────────────────┼─────────────────┤\n",
              "│ max_pooling2d_2 (\u001b[38;5;33mMaxPooling2D\u001b[0m)       │ (\u001b[38;5;45mNone\u001b[0m, \u001b[38;5;34m14\u001b[0m, \u001b[38;5;34m14\u001b[0m, \u001b[38;5;34m128\u001b[0m)         │               \u001b[38;5;34m0\u001b[0m │\n",
              "├──────────────────────────────────────┼─────────────────────────────┼─────────────────┤\n",
              "│ flatten (\u001b[38;5;33mFlatten\u001b[0m)                    │ (\u001b[38;5;45mNone\u001b[0m, \u001b[38;5;34m25088\u001b[0m)               │               \u001b[38;5;34m0\u001b[0m │\n",
              "├──────────────────────────────────────┼─────────────────────────────┼─────────────────┤\n",
              "│ dense (\u001b[38;5;33mDense\u001b[0m)                        │ (\u001b[38;5;45mNone\u001b[0m, \u001b[38;5;34m128\u001b[0m)                 │       \u001b[38;5;34m3,211,392\u001b[0m │\n",
              "├──────────────────────────────────────┼─────────────────────────────┼─────────────────┤\n",
              "│ dropout (\u001b[38;5;33mDropout\u001b[0m)                    │ (\u001b[38;5;45mNone\u001b[0m, \u001b[38;5;34m128\u001b[0m)                 │               \u001b[38;5;34m0\u001b[0m │\n",
              "├──────────────────────────────────────┼─────────────────────────────┼─────────────────┤\n",
              "│ dense_1 (\u001b[38;5;33mDense\u001b[0m)                      │ (\u001b[38;5;45mNone\u001b[0m, \u001b[38;5;34m10\u001b[0m)                  │           \u001b[38;5;34m1,290\u001b[0m │\n",
              "└──────────────────────────────────────┴─────────────────────────────┴─────────────────┘\n"
            ],
            "text/html": [
              "<pre style=\"white-space:pre;overflow-x:auto;line-height:normal;font-family:Menlo,'DejaVu Sans Mono',consolas,'Courier New',monospace\">┏━━━━━━━━━━━━━━━━━━━━━━━━━━━━━━━━━━━━━━┳━━━━━━━━━━━━━━━━━━━━━━━━━━━━━┳━━━━━━━━━━━━━━━━━┓\n",
              "┃<span style=\"font-weight: bold\"> Layer (type)                         </span>┃<span style=\"font-weight: bold\"> Output Shape                </span>┃<span style=\"font-weight: bold\">         Param # </span>┃\n",
              "┡━━━━━━━━━━━━━━━━━━━━━━━━━━━━━━━━━━━━━━╇━━━━━━━━━━━━━━━━━━━━━━━━━━━━━╇━━━━━━━━━━━━━━━━━┩\n",
              "│ conv2d (<span style=\"color: #0087ff; text-decoration-color: #0087ff\">Conv2D</span>)                      │ (<span style=\"color: #00d7ff; text-decoration-color: #00d7ff\">None</span>, <span style=\"color: #00af00; text-decoration-color: #00af00\">126</span>, <span style=\"color: #00af00; text-decoration-color: #00af00\">126</span>, <span style=\"color: #00af00; text-decoration-color: #00af00\">32</span>)        │             <span style=\"color: #00af00; text-decoration-color: #00af00\">896</span> │\n",
              "├──────────────────────────────────────┼─────────────────────────────┼─────────────────┤\n",
              "│ max_pooling2d (<span style=\"color: #0087ff; text-decoration-color: #0087ff\">MaxPooling2D</span>)         │ (<span style=\"color: #00d7ff; text-decoration-color: #00d7ff\">None</span>, <span style=\"color: #00af00; text-decoration-color: #00af00\">63</span>, <span style=\"color: #00af00; text-decoration-color: #00af00\">63</span>, <span style=\"color: #00af00; text-decoration-color: #00af00\">32</span>)          │               <span style=\"color: #00af00; text-decoration-color: #00af00\">0</span> │\n",
              "├──────────────────────────────────────┼─────────────────────────────┼─────────────────┤\n",
              "│ conv2d_1 (<span style=\"color: #0087ff; text-decoration-color: #0087ff\">Conv2D</span>)                    │ (<span style=\"color: #00d7ff; text-decoration-color: #00d7ff\">None</span>, <span style=\"color: #00af00; text-decoration-color: #00af00\">61</span>, <span style=\"color: #00af00; text-decoration-color: #00af00\">61</span>, <span style=\"color: #00af00; text-decoration-color: #00af00\">64</span>)          │          <span style=\"color: #00af00; text-decoration-color: #00af00\">18,496</span> │\n",
              "├──────────────────────────────────────┼─────────────────────────────┼─────────────────┤\n",
              "│ max_pooling2d_1 (<span style=\"color: #0087ff; text-decoration-color: #0087ff\">MaxPooling2D</span>)       │ (<span style=\"color: #00d7ff; text-decoration-color: #00d7ff\">None</span>, <span style=\"color: #00af00; text-decoration-color: #00af00\">30</span>, <span style=\"color: #00af00; text-decoration-color: #00af00\">30</span>, <span style=\"color: #00af00; text-decoration-color: #00af00\">64</span>)          │               <span style=\"color: #00af00; text-decoration-color: #00af00\">0</span> │\n",
              "├──────────────────────────────────────┼─────────────────────────────┼─────────────────┤\n",
              "│ conv2d_2 (<span style=\"color: #0087ff; text-decoration-color: #0087ff\">Conv2D</span>)                    │ (<span style=\"color: #00d7ff; text-decoration-color: #00d7ff\">None</span>, <span style=\"color: #00af00; text-decoration-color: #00af00\">28</span>, <span style=\"color: #00af00; text-decoration-color: #00af00\">28</span>, <span style=\"color: #00af00; text-decoration-color: #00af00\">128</span>)         │          <span style=\"color: #00af00; text-decoration-color: #00af00\">73,856</span> │\n",
              "├──────────────────────────────────────┼─────────────────────────────┼─────────────────┤\n",
              "│ max_pooling2d_2 (<span style=\"color: #0087ff; text-decoration-color: #0087ff\">MaxPooling2D</span>)       │ (<span style=\"color: #00d7ff; text-decoration-color: #00d7ff\">None</span>, <span style=\"color: #00af00; text-decoration-color: #00af00\">14</span>, <span style=\"color: #00af00; text-decoration-color: #00af00\">14</span>, <span style=\"color: #00af00; text-decoration-color: #00af00\">128</span>)         │               <span style=\"color: #00af00; text-decoration-color: #00af00\">0</span> │\n",
              "├──────────────────────────────────────┼─────────────────────────────┼─────────────────┤\n",
              "│ flatten (<span style=\"color: #0087ff; text-decoration-color: #0087ff\">Flatten</span>)                    │ (<span style=\"color: #00d7ff; text-decoration-color: #00d7ff\">None</span>, <span style=\"color: #00af00; text-decoration-color: #00af00\">25088</span>)               │               <span style=\"color: #00af00; text-decoration-color: #00af00\">0</span> │\n",
              "├──────────────────────────────────────┼─────────────────────────────┼─────────────────┤\n",
              "│ dense (<span style=\"color: #0087ff; text-decoration-color: #0087ff\">Dense</span>)                        │ (<span style=\"color: #00d7ff; text-decoration-color: #00d7ff\">None</span>, <span style=\"color: #00af00; text-decoration-color: #00af00\">128</span>)                 │       <span style=\"color: #00af00; text-decoration-color: #00af00\">3,211,392</span> │\n",
              "├──────────────────────────────────────┼─────────────────────────────┼─────────────────┤\n",
              "│ dropout (<span style=\"color: #0087ff; text-decoration-color: #0087ff\">Dropout</span>)                    │ (<span style=\"color: #00d7ff; text-decoration-color: #00d7ff\">None</span>, <span style=\"color: #00af00; text-decoration-color: #00af00\">128</span>)                 │               <span style=\"color: #00af00; text-decoration-color: #00af00\">0</span> │\n",
              "├──────────────────────────────────────┼─────────────────────────────┼─────────────────┤\n",
              "│ dense_1 (<span style=\"color: #0087ff; text-decoration-color: #0087ff\">Dense</span>)                      │ (<span style=\"color: #00d7ff; text-decoration-color: #00d7ff\">None</span>, <span style=\"color: #00af00; text-decoration-color: #00af00\">10</span>)                  │           <span style=\"color: #00af00; text-decoration-color: #00af00\">1,290</span> │\n",
              "└──────────────────────────────────────┴─────────────────────────────┴─────────────────┘\n",
              "</pre>\n"
            ]
          },
          "metadata": {}
        },
        {
          "output_type": "display_data",
          "data": {
            "text/plain": [
              "\u001b[1m Total params: \u001b[0m\u001b[38;5;34m3,305,930\u001b[0m (12.61 MB)\n"
            ],
            "text/html": [
              "<pre style=\"white-space:pre;overflow-x:auto;line-height:normal;font-family:Menlo,'DejaVu Sans Mono',consolas,'Courier New',monospace\"><span style=\"font-weight: bold\"> Total params: </span><span style=\"color: #00af00; text-decoration-color: #00af00\">3,305,930</span> (12.61 MB)\n",
              "</pre>\n"
            ]
          },
          "metadata": {}
        },
        {
          "output_type": "display_data",
          "data": {
            "text/plain": [
              "\u001b[1m Trainable params: \u001b[0m\u001b[38;5;34m3,305,930\u001b[0m (12.61 MB)\n"
            ],
            "text/html": [
              "<pre style=\"white-space:pre;overflow-x:auto;line-height:normal;font-family:Menlo,'DejaVu Sans Mono',consolas,'Courier New',monospace\"><span style=\"font-weight: bold\"> Trainable params: </span><span style=\"color: #00af00; text-decoration-color: #00af00\">3,305,930</span> (12.61 MB)\n",
              "</pre>\n"
            ]
          },
          "metadata": {}
        },
        {
          "output_type": "display_data",
          "data": {
            "text/plain": [
              "\u001b[1m Non-trainable params: \u001b[0m\u001b[38;5;34m0\u001b[0m (0.00 B)\n"
            ],
            "text/html": [
              "<pre style=\"white-space:pre;overflow-x:auto;line-height:normal;font-family:Menlo,'DejaVu Sans Mono',consolas,'Courier New',monospace\"><span style=\"font-weight: bold\"> Non-trainable params: </span><span style=\"color: #00af00; text-decoration-color: #00af00\">0</span> (0.00 B)\n",
              "</pre>\n"
            ]
          },
          "metadata": {}
        }
      ]
    },
    {
      "cell_type": "markdown",
      "source": [
        "özet"
      ],
      "metadata": {
        "id": "n1dRRGSYznNF"
      }
    },
    {
      "cell_type": "markdown",
      "source": [
        "# Modelin Test Edilmesi\n"
      ],
      "metadata": {
        "id": "Q9qvG_M6zzJh"
      }
    },
    {
      "cell_type": "code",
      "source": [
        "from sklearn.model_selection import train_test_split\n",
        "\n",
        "X_train, X_test, y_train, y_test = train_test_split(images, labels, test_size=0.3, random_state=42)\n",
        "\n",
        "history = model.fit(X_train, y_train, epochs=10, batch_size=32, validation_data=(X_test, y_test))\n",
        "\n",
        "test_loss, test_acc = model.evaluate(X_test, y_test)\n",
        "print(f\"Test Seti Başarı Oranı: {test_acc * 100:.2f}%\")\n"
      ],
      "metadata": {
        "colab": {
          "base_uri": "https://localhost:8080/"
        },
        "id": "V9TWO2ojz2ID",
        "outputId": "2678efbb-e201-4967-daad-d577cb2220ef"
      },
      "execution_count": 60,
      "outputs": [
        {
          "output_type": "stream",
          "name": "stdout",
          "text": [
            "Epoch 1/10\n",
            "\u001b[1m143/143\u001b[0m \u001b[32m━━━━━━━━━━━━━━━━━━━━\u001b[0m\u001b[37m\u001b[0m \u001b[1m211s\u001b[0m 1s/step - accuracy: 0.1754 - loss: 25.5675 - val_accuracy: 0.2615 - val_loss: 2.1238\n",
            "Epoch 2/10\n",
            "\u001b[1m143/143\u001b[0m \u001b[32m━━━━━━━━━━━━━━━━━━━━\u001b[0m\u001b[37m\u001b[0m \u001b[1m262s\u001b[0m 1s/step - accuracy: 0.2683 - loss: 2.0447 - val_accuracy: 0.3051 - val_loss: 2.0603\n",
            "Epoch 3/10\n",
            "\u001b[1m143/143\u001b[0m \u001b[32m━━━━━━━━━━━━━━━━━━━━\u001b[0m\u001b[37m\u001b[0m \u001b[1m270s\u001b[0m 2s/step - accuracy: 0.3507 - loss: 1.8712 - val_accuracy: 0.2728 - val_loss: 2.0672\n",
            "Epoch 4/10\n",
            "\u001b[1m143/143\u001b[0m \u001b[32m━━━━━━━━━━━━━━━━━━━━\u001b[0m\u001b[37m\u001b[0m \u001b[1m206s\u001b[0m 1s/step - accuracy: 0.3612 - loss: 1.8273 - val_accuracy: 0.2841 - val_loss: 2.0319\n",
            "Epoch 5/10\n",
            "\u001b[1m143/143\u001b[0m \u001b[32m━━━━━━━━━━━━━━━━━━━━\u001b[0m\u001b[37m\u001b[0m \u001b[1m249s\u001b[0m 1s/step - accuracy: 0.4119 - loss: 1.6688 - val_accuracy: 0.3272 - val_loss: 1.9194\n",
            "Epoch 6/10\n",
            "\u001b[1m143/143\u001b[0m \u001b[32m━━━━━━━━━━━━━━━━━━━━\u001b[0m\u001b[37m\u001b[0m \u001b[1m193s\u001b[0m 1s/step - accuracy: 0.4965 - loss: 1.4742 - val_accuracy: 0.3749 - val_loss: 2.1449\n",
            "Epoch 7/10\n",
            "\u001b[1m143/143\u001b[0m \u001b[32m━━━━━━━━━━━━━━━━━━━━\u001b[0m\u001b[37m\u001b[0m \u001b[1m200s\u001b[0m 1s/step - accuracy: 0.5504 - loss: 1.2912 - val_accuracy: 0.3610 - val_loss: 2.2434\n",
            "Epoch 8/10\n",
            "\u001b[1m143/143\u001b[0m \u001b[32m━━━━━━━━━━━━━━━━━━━━\u001b[0m\u001b[37m\u001b[0m \u001b[1m205s\u001b[0m 1s/step - accuracy: 0.5947 - loss: 1.1828 - val_accuracy: 0.3144 - val_loss: 2.1360\n",
            "Epoch 9/10\n",
            "\u001b[1m143/143\u001b[0m \u001b[32m━━━━━━━━━━━━━━━━━━━━\u001b[0m\u001b[37m\u001b[0m \u001b[1m207s\u001b[0m 1s/step - accuracy: 0.6190 - loss: 1.1416 - val_accuracy: 0.3518 - val_loss: 2.2691\n",
            "Epoch 10/10\n",
            "\u001b[1m143/143\u001b[0m \u001b[32m━━━━━━━━━━━━━━━━━━━━\u001b[0m\u001b[37m\u001b[0m \u001b[1m214s\u001b[0m 1s/step - accuracy: 0.6586 - loss: 1.0091 - val_accuracy: 0.3574 - val_loss: 2.2379\n",
            "\u001b[1m61/61\u001b[0m \u001b[32m━━━━━━━━━━━━━━━━━━━━\u001b[0m\u001b[37m\u001b[0m \u001b[1m22s\u001b[0m 357ms/step - accuracy: 0.3548 - loss: 2.2875\n",
            "Test Seti Başarı Oranı: 35.74%\n"
          ]
        }
      ]
    },
    {
      "cell_type": "markdown",
      "source": [
        "#  Resimlerin Farklı Işıklar ile Manipüle Edilmesi"
      ],
      "metadata": {
        "id": "i0FmNKAa6dNd"
      }
    },
    {
      "cell_type": "code",
      "source": [
        "import numpy as np\n",
        "from PIL import ImageEnhance\n",
        "\n",
        "def get_manipulated_images(img):\n",
        "    enhancer = ImageEnhance.Brightness(img)\n",
        "    manipulated_images = []\n",
        "\n",
        "    for factor in np.linspace(0.5, 1.5, 5):\n",
        "        enhanced_img = enhancer.enhance(factor)\n",
        "        manipulated_images.append(enhanced_img)\n",
        "\n",
        "    return manipulated_images\n"
      ],
      "metadata": {
        "id": "5e_gLt0r6l7O"
      },
      "execution_count": 64,
      "outputs": []
    },
    {
      "cell_type": "markdown",
      "source": [
        "# Modelin Manipüle Edilmiş Test Seti ile Denenmesi"
      ],
      "metadata": {
        "id": "5CWAfL-q6sjx"
      }
    },
    {
      "cell_type": "code",
      "source": [
        "import os\n",
        "from PIL import Image\n",
        "import numpy as np\n",
        "\n",
        "test_animal_folder = os.path.join(test_path, animal)\n",
        "\n",
        "test_images = []\n",
        "test_labels = []\n",
        "\n",
        "for animal in os.listdir(test_animal_folder):\n",
        "    class_folder = os.path.join(test_animal_folder, animal)\n",
        "\n",
        "    if os.path.isdir(class_folder):\n",
        "        for img_file in os.listdir(class_folder):\n",
        "            img_path = os.path.join(class_folder, img_file)\n",
        "            img = Image.open(img_path).resize((128, 128))\n",
        "            img_array = np.array(img) / 255.0\n",
        "            test_images.append(img_array)\n",
        "            test_labels.append(animal)\n",
        "\n",
        "test_images = np.array(test_images)\n",
        "test_labels = np.array(test_labels)\n",
        "\n",
        "manipulated_images = get_manipulated_images(test_images)\n",
        "\n",
        "manipulated_images = np.array([np.array(img.resize((128, 128))) for img in manipulated_images])\n",
        "manipulated_images = manipulated_images / 255.0\n",
        "\n",
        "test_loss, test_acc = model.evaluate(manipulated_images, y_test)\n",
        "print(f\"Manipüle Edilmiş Test Seti Başarı Oranı: {test_acc * 100:.2f}%\")\n",
        "\n"
      ],
      "metadata": {
        "colab": {
          "base_uri": "https://localhost:8080/",
          "height": 372
        },
        "id": "hwXs_YcS62Bl",
        "outputId": "9e6d4fc8-2b60-409a-b4be-bb0d11b0ba8d"
      },
      "execution_count": 69,
      "outputs": [
        {
          "output_type": "error",
          "ename": "AttributeError",
          "evalue": "'numpy.ndarray' object has no attribute 'mode'",
          "traceback": [
            "\u001b[0;31m---------------------------------------------------------------------------\u001b[0m",
            "\u001b[0;31mAttributeError\u001b[0m                            Traceback (most recent call last)",
            "\u001b[0;32m<ipython-input-69-7a6db2b9003d>\u001b[0m in \u001b[0;36m<cell line: 24>\u001b[0;34m()\u001b[0m\n\u001b[1;32m     22\u001b[0m \u001b[0mtest_labels\u001b[0m \u001b[0;34m=\u001b[0m \u001b[0mnp\u001b[0m\u001b[0;34m.\u001b[0m\u001b[0marray\u001b[0m\u001b[0;34m(\u001b[0m\u001b[0mtest_labels\u001b[0m\u001b[0;34m)\u001b[0m\u001b[0;34m\u001b[0m\u001b[0;34m\u001b[0m\u001b[0m\n\u001b[1;32m     23\u001b[0m \u001b[0;34m\u001b[0m\u001b[0m\n\u001b[0;32m---> 24\u001b[0;31m \u001b[0mmanipulated_images\u001b[0m \u001b[0;34m=\u001b[0m \u001b[0mget_manipulated_images\u001b[0m\u001b[0;34m(\u001b[0m\u001b[0mtest_images\u001b[0m\u001b[0;34m)\u001b[0m\u001b[0;34m\u001b[0m\u001b[0;34m\u001b[0m\u001b[0m\n\u001b[0m\u001b[1;32m     25\u001b[0m \u001b[0;34m\u001b[0m\u001b[0m\n\u001b[1;32m     26\u001b[0m \u001b[0mmanipulated_images\u001b[0m \u001b[0;34m=\u001b[0m \u001b[0mnp\u001b[0m\u001b[0;34m.\u001b[0m\u001b[0marray\u001b[0m\u001b[0;34m(\u001b[0m\u001b[0;34m[\u001b[0m\u001b[0mnp\u001b[0m\u001b[0;34m.\u001b[0m\u001b[0marray\u001b[0m\u001b[0;34m(\u001b[0m\u001b[0mimg\u001b[0m\u001b[0;34m.\u001b[0m\u001b[0mresize\u001b[0m\u001b[0;34m(\u001b[0m\u001b[0;34m(\u001b[0m\u001b[0;36m128\u001b[0m\u001b[0;34m,\u001b[0m \u001b[0;36m128\u001b[0m\u001b[0;34m)\u001b[0m\u001b[0;34m)\u001b[0m\u001b[0;34m)\u001b[0m \u001b[0;32mfor\u001b[0m \u001b[0mimg\u001b[0m \u001b[0;32min\u001b[0m \u001b[0mmanipulated_images\u001b[0m\u001b[0;34m]\u001b[0m\u001b[0;34m)\u001b[0m\u001b[0;34m\u001b[0m\u001b[0;34m\u001b[0m\u001b[0m\n",
            "\u001b[0;32m<ipython-input-64-96e8a91214ff>\u001b[0m in \u001b[0;36mget_manipulated_images\u001b[0;34m(img)\u001b[0m\n\u001b[1;32m      3\u001b[0m \u001b[0;34m\u001b[0m\u001b[0m\n\u001b[1;32m      4\u001b[0m \u001b[0;32mdef\u001b[0m \u001b[0mget_manipulated_images\u001b[0m\u001b[0;34m(\u001b[0m\u001b[0mimg\u001b[0m\u001b[0;34m)\u001b[0m\u001b[0;34m:\u001b[0m\u001b[0;34m\u001b[0m\u001b[0;34m\u001b[0m\u001b[0m\n\u001b[0;32m----> 5\u001b[0;31m     \u001b[0menhancer\u001b[0m \u001b[0;34m=\u001b[0m \u001b[0mImageEnhance\u001b[0m\u001b[0;34m.\u001b[0m\u001b[0mBrightness\u001b[0m\u001b[0;34m(\u001b[0m\u001b[0mimg\u001b[0m\u001b[0;34m)\u001b[0m\u001b[0;34m\u001b[0m\u001b[0;34m\u001b[0m\u001b[0m\n\u001b[0m\u001b[1;32m      6\u001b[0m     \u001b[0mmanipulated_images\u001b[0m \u001b[0;34m=\u001b[0m \u001b[0;34m[\u001b[0m\u001b[0;34m]\u001b[0m\u001b[0;34m\u001b[0m\u001b[0;34m\u001b[0m\u001b[0m\n\u001b[1;32m      7\u001b[0m \u001b[0;34m\u001b[0m\u001b[0m\n",
            "\u001b[0;32m/usr/local/lib/python3.10/dist-packages/PIL/ImageEnhance.py\u001b[0m in \u001b[0;36m__init__\u001b[0;34m(self, image)\u001b[0m\n\u001b[1;32m     92\u001b[0m     \u001b[0;32mdef\u001b[0m \u001b[0m__init__\u001b[0m\u001b[0;34m(\u001b[0m\u001b[0mself\u001b[0m\u001b[0;34m,\u001b[0m \u001b[0mimage\u001b[0m\u001b[0;34m:\u001b[0m \u001b[0mImage\u001b[0m\u001b[0;34m.\u001b[0m\u001b[0mImage\u001b[0m\u001b[0;34m)\u001b[0m \u001b[0;34m->\u001b[0m \u001b[0;32mNone\u001b[0m\u001b[0;34m:\u001b[0m\u001b[0;34m\u001b[0m\u001b[0;34m\u001b[0m\u001b[0m\n\u001b[1;32m     93\u001b[0m         \u001b[0mself\u001b[0m\u001b[0;34m.\u001b[0m\u001b[0mimage\u001b[0m \u001b[0;34m=\u001b[0m \u001b[0mimage\u001b[0m\u001b[0;34m\u001b[0m\u001b[0;34m\u001b[0m\u001b[0m\n\u001b[0;32m---> 94\u001b[0;31m         \u001b[0mself\u001b[0m\u001b[0;34m.\u001b[0m\u001b[0mdegenerate\u001b[0m \u001b[0;34m=\u001b[0m \u001b[0mImage\u001b[0m\u001b[0;34m.\u001b[0m\u001b[0mnew\u001b[0m\u001b[0;34m(\u001b[0m\u001b[0mimage\u001b[0m\u001b[0;34m.\u001b[0m\u001b[0mmode\u001b[0m\u001b[0;34m,\u001b[0m \u001b[0mimage\u001b[0m\u001b[0;34m.\u001b[0m\u001b[0msize\u001b[0m\u001b[0;34m,\u001b[0m \u001b[0;36m0\u001b[0m\u001b[0;34m)\u001b[0m\u001b[0;34m\u001b[0m\u001b[0;34m\u001b[0m\u001b[0m\n\u001b[0m\u001b[1;32m     95\u001b[0m \u001b[0;34m\u001b[0m\u001b[0m\n\u001b[1;32m     96\u001b[0m         \u001b[0;32mif\u001b[0m \u001b[0;34m\"A\"\u001b[0m \u001b[0;32min\u001b[0m \u001b[0mimage\u001b[0m\u001b[0;34m.\u001b[0m\u001b[0mgetbands\u001b[0m\u001b[0;34m(\u001b[0m\u001b[0;34m)\u001b[0m\u001b[0;34m:\u001b[0m\u001b[0;34m\u001b[0m\u001b[0;34m\u001b[0m\u001b[0m\n",
            "\u001b[0;31mAttributeError\u001b[0m: 'numpy.ndarray' object has no attribute 'mode'"
          ]
        }
      ]
    },
    {
      "cell_type": "markdown",
      "source": [
        "Manipüle edilmiş test seti ile modelin başarısı değerlendirildi"
      ],
      "metadata": {
        "id": "0w3KFJQ47A__"
      }
    },
    {
      "cell_type": "markdown",
      "source": [
        "# Manipüle Edilmiş Test Setine Renk Sabitliği Algoritması Uygulanması"
      ],
      "metadata": {
        "id": "4TeEux328Sh-"
      }
    },
    {
      "cell_type": "code",
      "source": [
        "def get_wb_images(image):\n",
        "    avg_rgb = np.mean(image, axis=(0, 1))\n",
        "    scale = np.mean(avg_rgb) / avg_rgb\n",
        "    corrected_image = image * scale\n",
        "    corrected_image = np.clip(corrected_image, 0, 255).astype(np.uint8)\n",
        "    return corrected_image\n"
      ],
      "metadata": {
        "id": "UQCuDULI8UzM"
      },
      "execution_count": 62,
      "outputs": []
    },
    {
      "cell_type": "markdown",
      "source": [
        "# Modelin Renk Sabitliği Uygulanmış Test Seti ile Denenmesi"
      ],
      "metadata": {
        "id": "RVymHrwV9VhL"
      }
    },
    {
      "cell_type": "code",
      "source": [
        "wb_images = np.array([get_wb_images(img) for img in manipulated_images])\n",
        "\n",
        "wb_images = wb_images / 255.0\n",
        "test_loss, test_acc = model.evaluate(wb_images, y_test)\n",
        "print(f\"Renk Sabitliği Uygulanmış Test Seti Başarı Oranı: {test_acc * 100:.2f}%\")\n"
      ],
      "metadata": {
        "colab": {
          "base_uri": "https://localhost:8080/",
          "height": 220
        },
        "id": "RqSaWlZq9eeq",
        "outputId": "a7ea85cd-6547-4ee2-e604-af2c362a5f6a"
      },
      "execution_count": 63,
      "outputs": [
        {
          "output_type": "error",
          "ename": "NameError",
          "evalue": "name 'manipulated_images' is not defined",
          "traceback": [
            "\u001b[0;31m---------------------------------------------------------------------------\u001b[0m",
            "\u001b[0;31mNameError\u001b[0m                                 Traceback (most recent call last)",
            "\u001b[0;32m<ipython-input-63-06478776062d>\u001b[0m in \u001b[0;36m<cell line: 1>\u001b[0;34m()\u001b[0m\n\u001b[0;32m----> 1\u001b[0;31m \u001b[0mwb_images\u001b[0m \u001b[0;34m=\u001b[0m \u001b[0mnp\u001b[0m\u001b[0;34m.\u001b[0m\u001b[0marray\u001b[0m\u001b[0;34m(\u001b[0m\u001b[0;34m[\u001b[0m\u001b[0mget_wb_images\u001b[0m\u001b[0;34m(\u001b[0m\u001b[0mimg\u001b[0m\u001b[0;34m)\u001b[0m \u001b[0;32mfor\u001b[0m \u001b[0mimg\u001b[0m \u001b[0;32min\u001b[0m \u001b[0mmanipulated_images\u001b[0m\u001b[0;34m]\u001b[0m\u001b[0;34m)\u001b[0m\u001b[0;34m\u001b[0m\u001b[0;34m\u001b[0m\u001b[0m\n\u001b[0m\u001b[1;32m      2\u001b[0m \u001b[0;34m\u001b[0m\u001b[0m\n\u001b[1;32m      3\u001b[0m \u001b[0mwb_images\u001b[0m \u001b[0;34m=\u001b[0m \u001b[0mwb_images\u001b[0m \u001b[0;34m/\u001b[0m \u001b[0;36m255.0\u001b[0m\u001b[0;34m\u001b[0m\u001b[0;34m\u001b[0m\u001b[0m\n\u001b[1;32m      4\u001b[0m \u001b[0mtest_loss\u001b[0m\u001b[0;34m,\u001b[0m \u001b[0mtest_acc\u001b[0m \u001b[0;34m=\u001b[0m \u001b[0mmodel\u001b[0m\u001b[0;34m.\u001b[0m\u001b[0mevaluate\u001b[0m\u001b[0;34m(\u001b[0m\u001b[0mwb_images\u001b[0m\u001b[0;34m,\u001b[0m \u001b[0my_test\u001b[0m\u001b[0;34m)\u001b[0m\u001b[0;34m\u001b[0m\u001b[0;34m\u001b[0m\u001b[0m\n\u001b[1;32m      5\u001b[0m \u001b[0mprint\u001b[0m\u001b[0;34m(\u001b[0m\u001b[0;34mf\"Renk Sabitliği Uygulanmış Test Seti Başarı Oranı: {test_acc * 100:.2f}%\"\u001b[0m\u001b[0;34m)\u001b[0m\u001b[0;34m\u001b[0m\u001b[0;34m\u001b[0m\u001b[0m\n",
            "\u001b[0;31mNameError\u001b[0m: name 'manipulated_images' is not defined"
          ]
        }
      ]
    },
    {
      "cell_type": "markdown",
      "source": [
        "# Farklı Test Setlerinin Başarılarını Karşılaştırma ve Raporlama"
      ],
      "metadata": {
        "id": "2i4f-XNU9je1"
      }
    },
    {
      "cell_type": "code",
      "source": [
        "print(\"Test Seti Başarı Oranı:\", test_acc * 100)\n",
        "print(\"Manipüle Edilmiş Test Seti Başarı Oranı:\", manipulated_test_acc * 100)\n",
        "print(\"Renk Sabitliği Uygulanmış Test Seti Başarı Oranı:\", wb_test_acc * 100)\n",
        "\n"
      ],
      "metadata": {
        "id": "vg4mwSiK9qdk"
      },
      "execution_count": null,
      "outputs": []
    }
  ]
}